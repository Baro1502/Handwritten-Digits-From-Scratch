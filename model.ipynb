{
 "cells": [
  {
   "cell_type": "code",
   "execution_count": 85,
   "metadata": {},
   "outputs": [],
   "source": [
    "import cv2\n",
    "import csv\n",
    "import numpy as np\n",
    "import glob\n",
    "import matplotlib.pyplot as plt\n",
    "import pandas as pd"
   ]
  },
  {
   "cell_type": "code",
   "execution_count": 86,
   "metadata": {},
   "outputs": [],
   "source": [
    "class Layer_Dense:\n",
    "    def __init__(self, n_inputs, n_neurons):\n",
    "        self.weights = 0.10 * np.random.randn(n_inputs, n_neurons)\n",
    "        self.biases = np.zeros((1, n_neurons))\n",
    "    def forward(self, inputs):\n",
    "        self.output = np.dot(inputs, self.weights) + self.biases\n",
    "\n",
    "\n",
    "class Activation_ReLU:\n",
    "    def forward(self, inputs):\n",
    "        self.output = np.maximum(0, inputs)\n",
    "\n",
    "class Activation_Softmax:\n",
    "    def forward(self, inputs):\n",
    "        exp_values = np.exp(inputs - np.max(inputs, axis=1, keepdims=True))\n",
    "        probabilities = exp_values / np.sum(exp_values, axis=1, keepdims=True)\n",
    "        self.output = probabilities\n",
    "\n",
    "class Loss:\n",
    "    def calculate(self, y_pred, y):\n",
    "        sample_losses = self.forward(y_pred, y)\n",
    "        data_loss = np.mean(sample_losses)\n",
    "        return data_loss\n",
    "\n",
    "class Loss_CategoricalCrossentropy(Loss):\n",
    "    def forward(self, y_pred, y_true):\n",
    "        samples = len(y_pred)\n",
    "        y_pred_clipped = np.clip(y_pred, 1e-7, 1-1e-7)\n",
    "\n",
    "        if len(y_true.shape) == 1:\n",
    "            correct_confidences = y_pred_clipped[range(samples), y_true]\n",
    "\n",
    "        elif len(y_true.shape) == 2:\n",
    "            correct_confidences = np.sum(y_pred_clipped*y_true, axis=1)\n",
    "\n",
    "        negative_log_likelihoods = -np.log(correct_confidences)\n",
    "        return negative_log_likelihoods\n"
   ]
  },
  {
   "cell_type": "markdown",
   "metadata": {},
   "source": [
    "#MAIN HERE"
   ]
  },
  {
   "cell_type": "markdown",
   "metadata": {},
   "source": [
    "LOAD DATA"
   ]
  },
  {
   "cell_type": "code",
   "execution_count": 87,
   "metadata": {},
   "outputs": [
    {
     "data": {
      "text/plain": [
       "784"
      ]
     },
     "execution_count": 87,
     "metadata": {},
     "output_type": "execute_result"
    }
   ],
   "source": [
    "df = pd.read_csv('dataset.csv')\n",
    "csv = df.to_numpy()\n",
    "np.random.shuffle(csv)\n",
    "X = csv[:,0:-1]\n",
    "Y = csv[:,0]\n",
    "DATA_VOLUME,PIXELS = X.shape\n",
    "PIXELS"
   ]
  },
  {
   "cell_type": "code",
   "execution_count": 88,
   "metadata": {},
   "outputs": [],
   "source": [
    "# Initialize Layers and Activation\n",
    "hidden_layer = Layer_Dense(PIXELS,100)\n",
    "activator = Activation_ReLU()\n",
    "output_layer = Layer_Dense(100,10)\n",
    "output_softmax = Activation_Softmax()\n",
    "loss_funtion = Loss_CategoricalCrossentropy()\n"
   ]
  },
  {
   "cell_type": "markdown",
   "metadata": {},
   "source": [
    "TRAIN DATA"
   ]
  },
  {
   "cell_type": "code",
   "execution_count": 90,
   "metadata": {},
   "outputs": [
    {
     "name": "stdout",
     "output_type": "stream",
     "text": [
      "[9 8 3 7 1]\n",
      "[[  51.0570603    68.96913208 -111.66145695  -11.60518953  -82.43795935\n",
      "   -69.11828309  -22.43863128  -85.88212768  -39.18058183   -5.43677899]\n",
      " [  76.73792556   56.55615295  -24.11692287  -92.25662636  -30.74709057\n",
      "   -21.51225721   28.36517662  -42.88283896  -88.98667093  -27.90256323]\n",
      " [  84.06656421   29.96596067  -42.70620015  -68.3750593   -15.52622989\n",
      "   -26.55088156    7.96731052  -35.69427824  -23.70228343  -11.64960015]\n",
      " [  70.77294507   58.44659125  -84.55889361  -34.95454831  -47.61284623\n",
      "   -38.79361061   -7.03150782  -74.02895087    6.70570195   14.90316366]\n",
      " [  59.98516066   52.28709843  -70.31391508  -24.71504106  -45.37902027\n",
      "   -38.0538325   -12.45200523  -66.57713891   -1.49909617   33.93609821]]\n"
     ]
    }
   ],
   "source": [
    "\n",
    "# Run the model\n",
    "# for sample in X:\n",
    "hidden_layer.forward(X)\n",
    "activator.forward(hidden_layer.output)\n",
    "output_layer.forward(activator.output)\n",
    "output_softmax.forward(output_layer.output)\n",
    "loss = loss_funtion.calculate(output_softmax.output,Y)\n",
    "\n",
    "print(Y[:5])\n",
    "print(output_layer.output[:5])\n",
    "\n",
    "# output_layer = Layer_Dense(hidden_layer.output,10)"
   ]
  },
  {
   "cell_type": "code",
   "execution_count": null,
   "metadata": {},
   "outputs": [],
   "source": []
  }
 ],
 "metadata": {
  "kernelspec": {
   "display_name": "Python 3.10.5 64-bit",
   "language": "python",
   "name": "python3"
  },
  "language_info": {
   "codemirror_mode": {
    "name": "ipython",
    "version": 3
   },
   "file_extension": ".py",
   "mimetype": "text/x-python",
   "name": "python",
   "nbconvert_exporter": "python",
   "pygments_lexer": "ipython3",
   "version": "3.10.5"
  },
  "orig_nbformat": 4,
  "vscode": {
   "interpreter": {
    "hash": "3aace9338d95a7d022d939fc78457f31d885bd00a409a68bc28d3f5860276098"
   }
  }
 },
 "nbformat": 4,
 "nbformat_minor": 2
}
