{
 "cells": [
  {
   "cell_type": "code",
   "execution_count": 85,
   "metadata": {},
   "outputs": [],
   "source": [
    "import cv2\n",
    "import csv\n",
    "import numpy as np\n",
    "import glob\n",
    "import matplotlib.pyplot as plt\n",
    "import pandas as pd"
   ]
  },
  {
   "cell_type": "code",
   "execution_count": 86,
   "metadata": {},
   "outputs": [],
   "source": [
    "def sigmoid (x):\n",
    "    return 1/(1 + np.exp(-x))\n",
    "def sigmoid_derivative(x):\n",
    "    return x * (1 - x)\n",
    "def loss(predicted_output,desired_output):\n",
    "    return 1/2*(desired_output-predicted_output)**2\n",
    "\n",
    "class NeuralNetwork() :\n",
    "    def __init__ (self, inputLayerNeuronsNumber , hiddenLayerNeuronsNumber, outputLayerNeuronsNumber):\n",
    "        self.inputLayerNeuronsNumber = inputLayerNeuronsNumber\n",
    "        self.hiddenLayerNeuronsNumber = hiddenLayerNeuronsNumber\n",
    "        self.outputLayerNeuronsNumber = outputLayerNeuronsNumber\n",
    "        self.learning_rate = 0.1\n",
    "        # He initialization\n",
    "        self.hidden_weights = np.random.randn(hiddenLayerNeuronsNumber,inputLayerNeuronsNumber)*np.sqrt(2/inputLayerNeuronsNumber)\n",
    "        self.hidden_bias = np.zeros([hiddenLayerNeuronsNumber,1])\n",
    "        self.output_weights = np.random.randn(outputLayerNeuronsNumber,hiddenLayerNeuronsNumber)\n",
    "        self.output_bias = np.zeros([outputLayerNeuronsNumber,1])\n",
    "        self.loss = []\n",
    "        \n",
    "        \n",
    "    def train(self, inputs, desired_output):\n",
    "        \n",
    "        hidden_layer_in = np.dot(self.hidden_weights, inputs) + self.hidden_bias\n",
    "        hidden_layer_out = sigmoid(hidden_layer_in)\n",
    "        \n",
    "        output_layer_in = np.dot(self.output_weights, hidden_layer_out) + self.output_bias\n",
    "        predicted_output = sigmoid(output_layer_in)\n",
    "        \n",
    "        error = desired_output - predicted_output\n",
    "        d_predicted_output = error * sigmoid_derivative(predicted_output)\n",
    "        \n",
    "        error_hidden_layer = d_predicted_output.T.dot(self.output_weights)\n",
    "        d_hidden_layer = error_hidden_layer.T * sigmoid_derivative(hidden_layer_out)\n",
    "                \n",
    "        self.output_weights += hidden_layer_out.dot(d_predicted_output.T).T * self.learning_rate\n",
    "        self.output_bias += np.sum(d_predicted_output, axis=0, keepdims=True) * self.learning_rate\n",
    "        \n",
    "        self.hidden_weights += inputs.dot(d_hidden_layer.T).T * self.learning_rate\n",
    "        self.hidden_bias += np.sum(d_hidden_layer, axis=0, keepdims=True) * self.learning_rate\n",
    "        self.loss.append(loss(predicted_output,desired_output))\n",
    "        \n",
    "        \n",
    "    def predict(self, inputs):\n",
    "        hidden_layer_in = np.dot(self.hidden_weights, inputs) + self.hidden_bias\n",
    "        hidden_layer_out = sigmoid(hidden_layer_in)\n",
    "        output_layer_in = np.dot(self.output_weights, hidden_layer_out) + self.output_bias\n",
    "        predicted_output = sigmoid(output_layer_in)\n",
    "        return predicted_output"
   ]
  },
  {
   "cell_type": "markdown",
   "metadata": {},
   "source": [
    "# MAIN HERE"
   ]
  },
  {
   "cell_type": "markdown",
   "metadata": {},
   "source": [
    "## LOAD DATA"
   ]
  },
  {
   "cell_type": "code",
   "execution_count": 87,
   "metadata": {},
   "outputs": [
    {
     "data": {
      "text/plain": [
       "784"
      ]
     },
     "execution_count": 87,
     "metadata": {},
     "output_type": "execute_result"
    }
   ],
   "source": [
    "df = pd.read_csv('dataset.csv')\n",
    "csv = df.to_numpy()\n",
    "np.random.shuffle(csv)\n",
    "X = csv[:,0:-1]\n",
    "Y = csv[:,0]\n",
    "DATA_VOLUME,PIXELS = X.shape\n",
    "PIXELS"
   ]
  },
  {
   "cell_type": "markdown",
   "metadata": {},
   "source": [
    "## TRAIN DATA"
   ]
  },
  {
   "cell_type": "code",
   "execution_count": 1,
   "metadata": {},
   "outputs": [
    {
     "ename": "NameError",
     "evalue": "name 'NeuralNetwork' is not defined",
     "output_type": "error",
     "traceback": [
      "\u001b[1;31m---------------------------------------------------------------------------\u001b[0m",
      "\u001b[1;31mNameError\u001b[0m                                 Traceback (most recent call last)",
      "\u001b[1;32md:\\SmallProjects\\digits\\FromGit\\Handwritten-Digits-From-Scratch\\model.ipynb Cell 8\u001b[0m in \u001b[0;36m<cell line: 1>\u001b[1;34m()\u001b[0m\n\u001b[1;32m----> <a href='vscode-notebook-cell:/d%3A/SmallProjects/digits/FromGit/Handwritten-Digits-From-Scratch/model.ipynb#ch0000007?line=0'>1</a>\u001b[0m nn\u001b[39m=\u001b[39mNeuralNetwork(\u001b[39m784\u001b[39m,\u001b[39m350\u001b[39m,\u001b[39m10\u001b[39m)\n\u001b[0;32m      <a href='vscode-notebook-cell:/d%3A/SmallProjects/digits/FromGit/Handwritten-Digits-From-Scratch/model.ipynb#ch0000007?line=2'>3</a>\u001b[0m \u001b[39mfor\u001b[39;00m i \u001b[39min\u001b[39;00m \u001b[39mrange\u001b[39m(X\u001b[39m.\u001b[39mshape[\u001b[39m0\u001b[39m]):\n\u001b[0;32m      <a href='vscode-notebook-cell:/d%3A/SmallProjects/digits/FromGit/Handwritten-Digits-From-Scratch/model.ipynb#ch0000007?line=3'>4</a>\u001b[0m     inputs \u001b[39m=\u001b[39m np\u001b[39m.\u001b[39marray(X[i, :]\u001b[39m.\u001b[39mreshape(\u001b[39m-\u001b[39m\u001b[39m1\u001b[39m,\u001b[39m1\u001b[39m))\n",
      "\u001b[1;31mNameError\u001b[0m: name 'NeuralNetwork' is not defined"
     ]
    }
   ],
   "source": [
    "nn=NeuralNetwork(784,350,10)\n",
    "\n",
    "for i in range(DATA_VOLUME):\n",
    "    inputs = np.array(X[i, :].reshape(-1,1))\n",
    "    desired_output = np.array(Y[i, :].reshape(-1,1))\n",
    "    nn.train(inputs, desired_output)"
   ]
  },
  {
   "cell_type": "markdown",
   "metadata": {},
   "source": [
    "## TEST DATA"
   ]
  },
  {
   "cell_type": "code",
   "execution_count": null,
   "metadata": {},
   "outputs": [],
   "source": [
    "prediction_list = []\n",
    "for i in range(X_test.shape[0]): \n",
    "    inputs = np.array(X_test[i].reshape(-1,1))\n",
    "    prediction_list.append(nn.predict(inputs))\n",
    "\n",
    "correct_counter = 0\n",
    "for i in range(len(prediction_list)):\n",
    "    out_index = np.where(prediction_list[i] == np.amax(prediction_list[i]))[0][0]\n",
    "    \n",
    "    if y_test[i][out_index] == 1:\n",
    "        correct_counter+=1\n",
    "\n",
    "accuracy = correct_counter/num_test\n",
    "\n",
    "print(\"Accuracy is : \",accuracy*100,\" %\")"
   ]
  }
 ],
 "metadata": {
  "kernelspec": {
   "display_name": "Python 3.10.5 64-bit",
   "language": "python",
   "name": "python3"
  },
  "language_info": {
   "codemirror_mode": {
    "name": "ipython",
    "version": 3
   },
   "file_extension": ".py",
   "mimetype": "text/x-python",
   "name": "python",
   "nbconvert_exporter": "python",
   "pygments_lexer": "ipython3",
   "version": "3.10.5"
  },
  "orig_nbformat": 4,
  "vscode": {
   "interpreter": {
    "hash": "3aace9338d95a7d022d939fc78457f31d885bd00a409a68bc28d3f5860276098"
   }
  }
 },
 "nbformat": 4,
 "nbformat_minor": 2
}
