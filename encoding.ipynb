{
 "cells": [
  {
   "cell_type": "code",
   "execution_count": null,
   "metadata": {},
   "outputs": [],
   "source": [
    "import cv2\n",
    "import csv\n",
    "import numpy as np\n",
    "import glob\n",
    "import matplotlib.pyplot as plt\n",
    "import pandas as pd\n",
    "\n",
    "%matplotlib widget"
   ]
  },
  {
   "cell_type": "code",
   "execution_count": 134,
   "metadata": {},
   "outputs": [],
   "source": [
    "# Generate dataset\n",
    "header = ['label']\n",
    "for hd in range(1,28*28+1):\n",
    "    header.append('pixel ' + str(hd))\n",
    "with open('dataset.csv','w',newline ='',encoding = 'utf-8') as f:\n",
    "   writer = csv.writer(f) # write object not string\n",
    "   writer.writerow(header)"
   ]
  },
  {
   "cell_type": "code",
   "execution_count": null,
   "metadata": {},
   "outputs": [],
   "source": [
    "\n",
    "labels = ['0','1','2','3','4','5','6','7','8','9']\n",
    "\n",
    "to_file = [] # This will be wrtiten to csv file later\n",
    "for label in labels:\n",
    "    dirList = glob.glob(\"dataset/\"+label+\"/*.png\")\n",
    "    for img_path in dirList:\n",
    "        img = cv2.imread(img_path,-1) \n",
    "        img_layer = img[:,:,3] # Get the last layer which contains pixels\n",
    "        \n",
    "        im_gray = cv2.GaussianBlur(img_layer,(17,17), 0)\n",
    "        im_gray =\n",
    "        data = [label]\n",
    "\n",
    "        rows, cols = im_gray.shape\n",
    "       \n",
    "        #Add pixel one by one into data array\n",
    "        for i in range(rows):\n",
    "            for j in range(cols):\n",
    "               data.append(im_gray[i,j])\n",
    "        to_file.append(data)\n",
    "with open('dataset.csv', 'a',newline ='',encoding = 'utf-8') as f:\n",
    "    writer = csv.writer(f)\n",
    "    writer.writerows(to_file)"
   ]
  }
 ],
 "metadata": {
  "kernelspec": {
   "display_name": "Python 3.10.5 64-bit",
   "language": "python",
   "name": "python3"
  },
  "language_info": {
   "codemirror_mode": {
    "name": "ipython",
    "version": 3
   },
   "file_extension": ".py",
   "mimetype": "text/x-python",
   "name": "python",
   "nbconvert_exporter": "python",
   "pygments_lexer": "ipython3",
   "version": "3.10.5"
  },
  "orig_nbformat": 4,
  "vscode": {
   "interpreter": {
    "hash": "3aace9338d95a7d022d939fc78457f31d885bd00a409a68bc28d3f5860276098"
   }
  }
 },
 "nbformat": 4,
 "nbformat_minor": 2
}
